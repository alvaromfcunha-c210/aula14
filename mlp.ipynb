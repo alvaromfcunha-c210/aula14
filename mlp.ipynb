{
 "cells": [
  {
   "attachments": {},
   "cell_type": "markdown",
   "metadata": {},
   "source": [
    "# Redes Neurais Artificiais - Multilayer Perceptron"
   ]
  },
  {
   "attachments": {},
   "cell_type": "markdown",
   "metadata": {},
   "source": [
    "**Acompanhar explicação pelos slides da teoria.**"
   ]
  },
  {
   "attachments": {},
   "cell_type": "markdown",
   "metadata": {},
   "source": [
    "### Criação dos dados:"
   ]
  },
  {
   "cell_type": "code",
   "execution_count": null,
   "metadata": {},
   "outputs": [],
   "source": [
    "from sklearn.datasets import make_blobs\n",
    "from sklearn.model_selection import train_test_split\n",
    "\n",
    "todos_dados, todos_alvos = make_blobs(n_samples=400, n_features=2, centers=3, cluster_std=.99, shuffle=True)\n",
    "\n",
    "alvos_map = map(lambda label: [1] if label == 2 else [label], todos_alvos)\n",
    "todos_alvos = list(alvos_map)\n",
    "\n",
    "dados, dados_teste, alvos, alvos_teste = train_test_split(todos_dados, todos_alvos, test_size=.2, random_state=44)"
   ]
  },
  {
   "cell_type": "code",
   "execution_count": null,
   "metadata": {},
   "outputs": [],
   "source": [
    "# import numpy as np\n",
    "\n",
    "# dados = np.array(\n",
    "#     [[5.7, 7.5], [9.3, 5.6], [8.8, 6.9], [6.8, 9.2], [7.9, 9.1],\n",
    "#     [8.8, 5.6], [5.6, 7.8], [8.8, 9.0], [7.6, 5.9], [4.9, 8.1],\n",
    "#     [6.6, 4.5], [5.2, 7.2], [1.2, 1.2], [2.4, 1.6], [4.7, 2.5],\n",
    "#     [0.9, 3.1], [2.6, 4.1], [1.8, 2.0], [4.1, 2.8], [1.8, 1.6],\n",
    "#     [1.9, 3.1], [0.8, 3.2], [1.8, 2.9], [3.3, 1.6], [3.7, 2.5]\n",
    "#   ])\n",
    "\n",
    "# alvos = np.array([[1], [1], [1], [1], [1], [1], [1], [1], [1], [1], [1], [1], [-1], [-1], [-1], [-1], [-1], [-1], [-1], [-1], [-1], [-1], [-1], [-1], [-1]])"
   ]
  },
  {
   "cell_type": "code",
   "execution_count": null,
   "metadata": {},
   "outputs": [],
   "source": [
    "import matplotlib.pyplot as plt\n",
    "\n",
    "plt.title(\"'dados' separado por 'alvos'\")\n",
    "plt.scatter(dados[:, 0], dados[:, 1], c = alvos)\n",
    "plt.show()"
   ]
  },
  {
   "attachments": {},
   "cell_type": "markdown",
   "metadata": {},
   "source": [
    "### Modelando rede MLP:"
   ]
  },
  {
   "cell_type": "code",
   "execution_count": null,
   "metadata": {},
   "outputs": [],
   "source": [
    "import math\n",
    "import numpy as np\n",
    "\n",
    "class MLP:\n",
    "    def __init__(self, taxa_aprendizado: float, tolerancia_taxa_erro: float, neuronios: list[int]):\n",
    "        self.taxa_aprendizado = taxa_aprendizado\n",
    "        self.tolerancia_taxa_erro = tolerancia_taxa_erro\n",
    "        self.neuronios = neuronios\n",
    "\n",
    "    def __sigmoid(self, valor):\n",
    "        '''\n",
    "            Calcula a sigmoid de um valor.\n",
    "        '''\n",
    "        return (1/(1+math.e**(-valor)))\n",
    "\n",
    "    def __deriv_sigmoid(self, valor):\n",
    "        '''\n",
    "            Calcula a derivada da função sigmoid.\n",
    "        '''\n",
    "        sig = self.__sigmoid(valor)\n",
    "        return sig*(1 - sig)\n",
    "\n",
    "    def __ativacao(self, valor: float) -> int:\n",
    "        '''\n",
    "            Função de ativação.\n",
    "        '''\n",
    "        return self.__sigmoid(valor)\n",
    "    \n",
    "    def __deriv_ativacao(self, valor):\n",
    "        '''Calcular a derivada da função de ativação'''\n",
    "        return self.__deriv_sigmoid(valor)\n",
    "        \n",
    "    def __predicao(self, valores: float, pesos: float) -> float:\n",
    "        '''\n",
    "            Função de predição.\n",
    "            Realiza a multiplicação matricial entre as entradas e os pesos somado ao bias proporcional.\n",
    "        '''\n",
    "        return np.dot(valores, pesos).reshape(1, -1)\n",
    "    \n",
    "    def __avaliacao(self, valor_alvo: float, valor_saida: float) -> float:\n",
    "        '''\n",
    "            Função de avaliação.\n",
    "            Calcula a diferença entre o valor alvo e o valor de saida.\n",
    "        '''\n",
    "        return (valor_alvo - valor_saida)\n",
    "    \n",
    "    def treinar(self, dados: list[list[float]], alvos: list[float]):\n",
    "        '''\n",
    "            Treino da rede MLP.\n",
    "            Define aleatoriamente os pesos para cada camada.\n",
    "            Enquanto a taxa de erro for maior que o aceitável continua o processo.\n",
    "        '''\n",
    "        self.bias = -1\n",
    "\n",
    "        self.peso_1 = np.random.random((dados.shape[1] + 1, self.neuronios[0]))\n",
    "        self.peso_2 = np.random.random((self.neuronios[0], self.neuronios[1]))\n",
    "        self.peso_3 = np.random.random((self.neuronios[1], self.neuronios[2]))\n",
    "\n",
    "        epoca = 0\n",
    "        self.erros = []\n",
    "\n",
    "        while True:\n",
    "\n",
    "            erro_medio_quadratico_epoca = 0\n",
    "\n",
    "            for dado, alvo in zip(dados, alvos):\n",
    "\n",
    "                # Feed-foward\n",
    "                entradas = np.insert(dado, 0, self.bias)\n",
    "\n",
    "                i1 = self.__predicao(entradas, self.peso_1)\n",
    "                y1 = self.__ativacao(i1)\n",
    "\n",
    "                i2 = self.__predicao(y1, self.peso_2)\n",
    "                y2 = self.__ativacao(i2)\n",
    "\n",
    "                i3 = self.__predicao(y2, self.peso_3)\n",
    "                y3 = self.__ativacao(i3)\n",
    "                \n",
    "                erro = self.__avaliacao(alvo, y3)\n",
    "                erro_medio_quadratico_epoca += erro ** 2\n",
    "\n",
    "                # Backpropagation\n",
    "                delta3 = (alvo - y3) * self.__deriv_ativacao(i3)\n",
    "                self.peso_3 += self.taxa_aprendizado * np.dot(y2.T, delta3)\n",
    "\n",
    "                delta2 = np.dot(delta3, self.peso_3.T) * self.__deriv_ativacao(i2)\n",
    "                self.peso_2 += self.taxa_aprendizado * np.dot(y1.T, delta2)\n",
    "\n",
    "                delta1 = np.dot(delta2, self.peso_2.T) * self.__deriv_ativacao(i1)\n",
    "                self.peso_1 += self.taxa_aprendizado * np.dot(entradas.reshape(1, -1).T, delta1)\n",
    "\n",
    "            erro_medio_quadratico_epoca = erro_medio_quadratico_epoca / len(dados)\n",
    "            taxa_erro = abs((np.inf if not len(self.erros) else self.erros[-1]) - erro_medio_quadratico_epoca)\n",
    "            print(f'Época: {epoca}\\n\\t- Erro Quadratico Medio: {erro_medio_quadratico_epoca}\\n\\t- Taxa Erro: {taxa_erro}')\n",
    "            if taxa_erro <= self.tolerancia_taxa_erro:\n",
    "                break\n",
    "\n",
    "            self.erros.append(erro_medio_quadratico_epoca[0])\n",
    "            epoca += 1\n",
    "\n",
    "    def testar(self, dados: list[list[float]]) -> list[float]:\n",
    "        '''\n",
    "            Testa a rede treinada.\n",
    "            Dado os dados, submete-os à rede para predição da saída.\n",
    "        '''\n",
    "        saidas = []\n",
    "        for dado in dados:\n",
    "            entradas = np.insert(dado, 0, self.bias)\n",
    "\n",
    "            i1 = self.__predicao(entradas, self.peso_1)\n",
    "            y1 = self.__ativacao(i1)\n",
    "\n",
    "            i2 = self.__predicao(y1, self.peso_2)\n",
    "            y2 = self.__ativacao(i2)\n",
    "\n",
    "            i3 = self.__predicao(y2, self.peso_3)\n",
    "            y3 = self.__ativacao(i3)\n",
    "\n",
    "            saida_aproximada = np.rint(y3)\n",
    "\n",
    "            saidas.append(int(saida_aproximada))\n",
    "\n",
    "        return saidas"
   ]
  },
  {
   "attachments": {},
   "cell_type": "markdown",
   "metadata": {},
   "source": [
    "### Treinando a rede:"
   ]
  },
  {
   "cell_type": "code",
   "execution_count": null,
   "metadata": {},
   "outputs": [],
   "source": [
    "rede_mlp = MLP(taxa_aprendizado=0.01, tolerancia_taxa_erro=0, neuronios=[4, 3, 1])\n",
    "\n",
    "rede_mlp.treinar(dados=dados, alvos=alvos)"
   ]
  },
  {
   "attachments": {},
   "cell_type": "markdown",
   "metadata": {},
   "source": [
    "### Testando a rede:"
   ]
  },
  {
   "cell_type": "code",
   "execution_count": null,
   "metadata": {},
   "outputs": [],
   "source": [
    "# dados_teste = np.array([[-2,-7.5], [2, -10], [7, -9]])\n",
    "\n",
    "saidas_teste = rede_mlp.testar(dados=dados_teste)\n",
    "\n",
    "plt.title(\"'dados' e 'alvos' com as 'saidas_teste'\")\n",
    "plt.scatter(dados[:, 0], dados[:, 1], c = alvos)\n",
    "plt.scatter(dados_teste[:, 0], dados_teste[:, 1], c = saidas_teste, marker = \"*\", edgecolors='black', s=250)\n",
    "plt.show()"
   ]
  },
  {
   "attachments": {},
   "cell_type": "markdown",
   "metadata": {},
   "source": [
    "### Métricas da rede treinada:"
   ]
  },
  {
   "attachments": {},
   "cell_type": "markdown",
   "metadata": {},
   "source": [
    "Valores de erro:"
   ]
  },
  {
   "cell_type": "code",
   "execution_count": null,
   "metadata": {},
   "outputs": [],
   "source": [
    "plt.title(\"Erro por época.\")\n",
    "plt.plot(rede_mlp.erros)\n",
    "plt.show()"
   ]
  },
  {
   "attachments": {},
   "cell_type": "markdown",
   "metadata": {},
   "source": [
    "Pesos da rede:"
   ]
  },
  {
   "cell_type": "code",
   "execution_count": null,
   "metadata": {},
   "outputs": [],
   "source": [
    "print(f'Pesos camada 1: {rede_mlp.peso_1}')\n",
    "print(f'Pesos camada 2: {rede_mlp.peso_2}')\n",
    "print(f'Pesos camada 2: {rede_mlp.peso_3}')"
   ]
  }
 ],
 "metadata": {
  "kernelspec": {
   "display_name": "Python 3",
   "language": "python",
   "name": "python3"
  },
  "language_info": {
   "codemirror_mode": {
    "name": "ipython",
    "version": 3
   },
   "file_extension": ".py",
   "mimetype": "text/x-python",
   "name": "python",
   "nbconvert_exporter": "python",
   "pygments_lexer": "ipython3",
   "version": "3.10.1"
  },
  "orig_nbformat": 4
 },
 "nbformat": 4,
 "nbformat_minor": 2
}
